{
 "cells": [
  {
   "cell_type": "markdown",
   "id": "56fd915c-8cfb-479d-bddb-6a25982593f1",
   "metadata": {},
   "source": [
    "Write a program to remove duplicates from a list using sets"
   ]
  },
  {
   "cell_type": "code",
   "execution_count": 2,
   "id": "c3308939-01df-42b8-b04f-f32e0520a26b",
   "metadata": {},
   "outputs": [],
   "source": [
    "lst=['Sharee', 'Pradeep', 'Sharee', 'Pradeep', 1, 2, 4]"
   ]
  },
  {
   "cell_type": "code",
   "execution_count": 4,
   "id": "586c17f7-ed09-4d87-ac7b-2dcf8f1daefe",
   "metadata": {},
   "outputs": [
    {
     "name": "stdout",
     "output_type": "stream",
     "text": [
      "{1, 2, 4, 'Pradeep', 'Sharee'}\n"
     ]
    }
   ],
   "source": [
    "print(set(lst))"
   ]
  },
  {
   "cell_type": "markdown",
   "id": "33a9db99-7d9c-4bab-b995-93839befb0c2",
   "metadata": {},
   "source": [
    "Write a program to merge 2 dictionaries"
   ]
  },
  {
   "cell_type": "code",
   "execution_count": 11,
   "id": "3c19c9fe-b3d2-4d1b-a425-e7af417fb3be",
   "metadata": {},
   "outputs": [],
   "source": [
    "dict1={1:'Sharee', 2:'Indian', 3:'Delhi'}"
   ]
  },
  {
   "cell_type": "code",
   "execution_count": 21,
   "id": "bcc60719-777d-4868-b80f-830ad2664c55",
   "metadata": {},
   "outputs": [],
   "source": [
    "dict2={'name':'Pradeep', 'country':'Indian', 'City':'Hyderabad'}"
   ]
  },
  {
   "cell_type": "code",
   "execution_count": 27,
   "id": "31275c8e-19d0-4bb1-aa7f-89d0d37b76c6",
   "metadata": {},
   "outputs": [],
   "source": [
    "dict_merged = {**dict1, **dict2}"
   ]
  },
  {
   "cell_type": "code",
   "execution_count": 29,
   "id": "dd400976-65e4-467f-96d7-a4cec146c995",
   "metadata": {},
   "outputs": [
    {
     "name": "stdout",
     "output_type": "stream",
     "text": [
      "{1: 'Sharee', 2: 'Indian', 3: 'Delhi', 'name': 'Pradeep', 'country': 'Indian', 'City': 'Hyderabad'}\n"
     ]
    }
   ],
   "source": [
    "print(dict_merged)"
   ]
  },
  {
   "cell_type": "markdown",
   "id": "d80b2f23-9667-45a1-bfc8-e2c0a769ca02",
   "metadata": {},
   "source": [
    "Questions on list, Tuple, Set and Dictionary"
   ]
  },
  {
   "cell_type": "code",
   "execution_count": 38,
   "id": "14c20225-b43b-4951-93a7-ce098b62d8d4",
   "metadata": {},
   "outputs": [
    {
     "name": "stdout",
     "output_type": "stream",
     "text": [
      "<class 'list'>\n"
     ]
    }
   ],
   "source": [
    "# how to create a list?\n",
    "lst=[]\n",
    "print(type(lst))"
   ]
  },
  {
   "cell_type": "code",
   "execution_count": 54,
   "id": "c8e72466-85f6-4326-b977-364c60fde3ec",
   "metadata": {},
   "outputs": [
    {
     "name": "stdout",
     "output_type": "stream",
     "text": [
      "12\n",
      "1\n",
      "\n",
      "1\n",
      "12\n"
     ]
    }
   ],
   "source": [
    "# Write a program to find tha largest and smallest elemtent in a list.\n",
    "list1=[1,2,3,4,5,6,12,7]\n",
    "list1.sort()\n",
    "print(list1[-1])\n",
    "print(list1[0])\n",
    "\n",
    "#or\n",
    "print()\n",
    "\n",
    "print(min(list1))\n",
    "print(max(list1))"
   ]
  },
  {
   "cell_type": "code",
   "execution_count": 70,
   "id": "e1ca003b-e3f2-4b89-9dde-b63e5e92f7bb",
   "metadata": {},
   "outputs": [
    {
     "name": "stdout",
     "output_type": "stream",
     "text": [
      "[7, 112, 6, 51, 4, 3, 2, 11]\n",
      "[7, 112, 6, 51, 4, 3, 2, 11]\n"
     ]
    }
   ],
   "source": [
    "#reverse a list without using reverse method\n",
    "\n",
    "list2=[11,2,3,4,51,6,112,7]\n",
    "list3=list2[::-1]\n",
    "print(list3)\n",
    "\n",
    "#reverse method\n",
    "list3=list2.reverse()\n",
    "print(list2)"
   ]
  },
  {
   "cell_type": "code",
   "execution_count": 92,
   "id": "d7cc7a68-54cb-44d2-805c-22e598ba65c5",
   "metadata": {},
   "outputs": [
    {
     "name": "stdout",
     "output_type": "stream",
     "text": [
      "[1, 4, 9, 16, 25, 36, 49, 64, 81, 100]\n"
     ]
    }
   ],
   "source": [
    "#Create a list of squares of numbers from 1 to 10.\n",
    "\n",
    "list4=[i**2 for i in range(1,11)]\n",
    "print(list4)"
   ]
  },
  {
   "cell_type": "code",
   "execution_count": 109,
   "id": "f9de57b4-1ace-467c-90f1-4a395cc3de5b",
   "metadata": {},
   "outputs": [
    {
     "name": "stdout",
     "output_type": "stream",
     "text": [
      "[1, 2, 3, 4, 5, 34]\n"
     ]
    }
   ],
   "source": [
    "#Remove duplicates from a list while maintaining the original order.\n",
    "\n",
    "list5=[1,1,1,2,3,4,5,34,3,4,5,4]\n",
    "list_unique=list(dict.fromkeys(list5))\n",
    "print(list_unique)"
   ]
  },
  {
   "cell_type": "code",
   "execution_count": 121,
   "id": "bcd49991-70bf-43a5-8f62-d22a324dc4e4",
   "metadata": {},
   "outputs": [
    {
     "name": "stdout",
     "output_type": "stream",
     "text": [
      "its a palindrome\n",
      "[1, 2, 3, 2, 1]\n",
      "[1, 2, 3, 2, 1]\n"
     ]
    }
   ],
   "source": [
    "#check if a list is palindrome\n",
    "\n",
    "list6=[1,2,3,2,1]\n",
    "list7=list6[::-1]\n",
    "if list6==list7:\n",
    "    print(\"its a palindrome\")\n",
    "else:\n",
    "    print(\"its a not palindrome\")\n",
    "\n",
    "print(list6)\n",
    "print(list7)"
   ]
  },
  {
   "cell_type": "code",
   "execution_count": 129,
   "id": "0248ac71-577a-4209-8121-5e2c85a70f87",
   "metadata": {},
   "outputs": [
    {
     "name": "stdout",
     "output_type": "stream",
     "text": [
      "[1, 2, 3, 4, 5, 6, 7]\n",
      "\n",
      "[1, 2, 3, 4, 5, 6, 7]\n"
     ]
    }
   ],
   "source": [
    "#Merge two lists and sort them in asc order\n",
    "\n",
    "list8=[1,2,6]\n",
    "list9=[3,4,5,7]\n",
    "list10=list8+list9\n",
    "list10.sort()\n",
    "print(list10)\n",
    "\n",
    "#or\n",
    "print()\n",
    "list11=sorted(list8+list9)\n",
    "print(list11)"
   ]
  },
  {
   "cell_type": "code",
   "execution_count": 135,
   "id": "b45bc7a9-6ca8-41ad-8b69-7f1258592cfd",
   "metadata": {},
   "outputs": [
    {
     "name": "stdout",
     "output_type": "stream",
     "text": [
      "51\n",
      "\n",
      "[2, 3, 4, 6, 7, 11, 51, 51, 112]\n"
     ]
    }
   ],
   "source": [
    "#Find the second largest number in a list.\n",
    "\n",
    "list12=[11,2,3,4,51,51,6,112,7]\n",
    "list12.sort()\n",
    "print(list12[-2])\n",
    "print()\n",
    "print(list12)"
   ]
  },
  {
   "cell_type": "code",
   "execution_count": 159,
   "id": "8c545cb2-b8f1-44b8-9803-f7198f912f20",
   "metadata": {},
   "outputs": [
    {
     "name": "stdout",
     "output_type": "stream",
     "text": [
      "{1: 3, 2: 1, 3: 2, 4: 3, 5: 2, 34: 1, 51: 2}\n"
     ]
    }
   ],
   "source": [
    "#Count the occurances of each element in a list.\n",
    "\n",
    "\n",
    "list13=[1,1,1,2,3,4,5,34,3,4,5,4,51,51]\n",
    "counts={i:list13.count(i) for i in list13}\n",
    "print(counts)"
   ]
  },
  {
   "cell_type": "code",
   "execution_count": 169,
   "id": "1ddf1a69-ece5-4cfe-a2c4-65030e0598f4",
   "metadata": {},
   "outputs": [
    {
     "name": "stdout",
     "output_type": "stream",
     "text": [
      "2\n"
     ]
    }
   ],
   "source": [
    "#Write a python program to find the index of an element in a tuple.\n",
    "\n",
    "tpl = (10,20,30,40)\n",
    "print(tpl.index(30))"
   ]
  },
  {
   "cell_type": "code",
   "execution_count": 177,
   "id": "565c3887-8aed-4abb-86be-b80713912ece",
   "metadata": {},
   "outputs": [
    {
     "name": "stdout",
     "output_type": "stream",
     "text": [
      "(1, 2, 3, 4, 5)\n"
     ]
    }
   ],
   "source": [
    "#Convert a list in to a tuple and a tuple into a list\n",
    "\n",
    "lst1=[1,2,3,4,5]\n",
    "tpl1=tuple(lst1)\n",
    "print(tpl1)"
   ]
  },
  {
   "cell_type": "code",
   "execution_count": 191,
   "id": "eb5d86e6-98d1-4c39-a5fa-dbcc8cb3d49b",
   "metadata": {},
   "outputs": [
    {
     "name": "stdout",
     "output_type": "stream",
     "text": [
      "1\n"
     ]
    }
   ],
   "source": [
    "#Count how many times an element appears in a tuple\n",
    "\n",
    "tpl2=(1,1,1,2,3,4,5,34,3,4,5,4)\n",
    "print(tpl2.count(2))"
   ]
  },
  {
   "cell_type": "code",
   "execution_count": 199,
   "id": "18b687ad-fae4-4f17-89e9-52c640468cf6",
   "metadata": {},
   "outputs": [
    {
     "name": "stdout",
     "output_type": "stream",
     "text": [
      "10 20 30\n"
     ]
    }
   ],
   "source": [
    "#unpack a tuple into individual variable.\n",
    "tpl3= (10,20,30)\n",
    "a, b, c=tpl3\n",
    "print(a,b,c)"
   ]
  },
  {
   "cell_type": "code",
   "execution_count": 205,
   "id": "beacf52a-bb2f-4ea7-8bc2-abec70d326b8",
   "metadata": {},
   "outputs": [
    {
     "name": "stdout",
     "output_type": "stream",
     "text": [
      "{1, 2, 3, 5, 12}\n"
     ]
    }
   ],
   "source": [
    "#Find the common elements between two sets.\n",
    "\n",
    "set={1,2,3,4,5,3,12,2,1}\n",
    "set1={11,2,31,14,5,3,12,2,1}\n",
    "print(set & set1)"
   ]
  },
  {
   "cell_type": "code",
   "execution_count": 3,
   "id": "73e89e92-792b-4a90-b217-85748f398d4c",
   "metadata": {},
   "outputs": [
    {
     "name": "stdout",
     "output_type": "stream",
     "text": [
      "{1, 2, 3}\n"
     ]
    }
   ],
   "source": [
    "#Remove all items from a set except the first n elements.\n",
    "set2={1,2,3,4,5}\n",
    "n=3\n",
    "result=set(list(set2)[:n])\n",
    "print(result)"
   ]
  },
  {
   "cell_type": "code",
   "execution_count": 5,
   "id": "5ac853ac-7340-4b59-92cd-87241cb02175",
   "metadata": {},
   "outputs": [
    {
     "name": "stdout",
     "output_type": "stream",
     "text": [
      "[2, 3, 4, 6, 7, 11, 112, 51]\n"
     ]
    }
   ],
   "source": [
    "#remove duplicates from a list using a set\n",
    "list15=[11,2,3,4,51,51,6,112,7]\n",
    "list16=list(set(list15))\n",
    "print(list16)"
   ]
  },
  {
   "cell_type": "code",
   "execution_count": null,
   "id": "60a5934c-caa9-4737-9c1c-85d1b2cb119b",
   "metadata": {},
   "outputs": [],
   "source": []
  },
  {
   "cell_type": "code",
   "execution_count": null,
   "id": "49489d8c-bf5e-4b5c-9f19-fc4d1e9c83f8",
   "metadata": {},
   "outputs": [],
   "source": []
  },
  {
   "cell_type": "code",
   "execution_count": null,
   "id": "b2dbda50-2531-440f-b72f-11a2af2a6d29",
   "metadata": {},
   "outputs": [],
   "source": []
  },
  {
   "cell_type": "code",
   "execution_count": null,
   "id": "c1793e8b-6600-43b0-a7b1-5483e5666440",
   "metadata": {},
   "outputs": [],
   "source": []
  },
  {
   "cell_type": "code",
   "execution_count": null,
   "id": "e13e52aa-afda-46ea-a019-3cfc3868cdd3",
   "metadata": {},
   "outputs": [],
   "source": []
  }
 ],
 "metadata": {
  "kernelspec": {
   "display_name": "Python 3 (ipykernel)",
   "language": "python",
   "name": "python3"
  },
  "language_info": {
   "codemirror_mode": {
    "name": "ipython",
    "version": 3
   },
   "file_extension": ".py",
   "mimetype": "text/x-python",
   "name": "python",
   "nbconvert_exporter": "python",
   "pygments_lexer": "ipython3",
   "version": "3.12.4"
  }
 },
 "nbformat": 4,
 "nbformat_minor": 5
}
