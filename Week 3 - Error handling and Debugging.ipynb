{
 "cells": [
  {
   "cell_type": "markdown",
   "id": "a7c2cd9c-335d-492a-b49b-7924e50eac91",
   "metadata": {},
   "source": [
    "Write a program that accepts 2 numbers from the user and performs division. Use error handling for case where user tries to divide number by 0, or input a non-numberic value."
   ]
  },
  {
   "cell_type": "code",
   "execution_count": 75,
   "id": "f11c71c7-32a3-44b8-aad2-23f187e90baf",
   "metadata": {},
   "outputs": [
    {
     "name": "stdin",
     "output_type": "stream",
     "text": [
      "Enter first number here:  -10\n",
      "Enter second number here:  -10\n"
     ]
    },
    {
     "name": "stdout",
     "output_type": "stream",
     "text": [
      "The quotient is: 1.0\n"
     ]
    }
   ],
   "source": [
    "try:\n",
    "    x = int(input(\"Enter first number here: \"))\n",
    "    y = int(input(\"Enter second number here: \"))\n",
    "\n",
    "    # Check for division by zero\n",
    "    if y == 0:\n",
    "        print(\"Error: Cannot divide by zero.\")\n",
    "    else:\n",
    "        # Perform division\n",
    "        quotient = x / y\n",
    "        print(f\"The quotient is: {quotient}\")\n",
    "\n",
    "except ValueError:\n",
    "    print(\"Error: Please enter valid numeric values.\")"
   ]
  },
  {
   "cell_type": "markdown",
   "id": "35706c93-becd-40e6-a656-1fb9b19963d6",
   "metadata": {},
   "source": [
    "Some extra problems on handling and debugging"
   ]
  },
  {
   "cell_type": "code",
   "execution_count": 33,
   "id": "bc5a7ff2-8e0e-49cf-bfc4-134102ea68af",
   "metadata": {},
   "outputs": [
    {
     "name": "stdout",
     "output_type": "stream",
     "text": [
      "The index and element from the array is 0 Python\n",
      "The index and element from the array is 1 Exceptions\n",
      "The index and element from the array is 2 try and except\n",
      "Index out of range\n"
     ]
    }
   ],
   "source": [
    "a = [\"Python\", \"Exceptions\", \"try and except\"]  \n",
    "try:  \n",
    "    #looping through the elements of the array a, choosing a range that goes beyond the length of the array  \n",
    "     for i in range( 4 ):  \n",
    "        print( \"The index and element from the array is\", i, a[i] )  \n",
    "#if an error occurs in the try block, then except block will be executed by the Python interpreter       \n",
    "except:  \n",
    "    print (\"Index out of range\")  "
   ]
  },
  {
   "cell_type": "code",
   "execution_count": 39,
   "id": "250508b8-218f-4bad-9c8e-8abc6ac7c589",
   "metadata": {},
   "outputs": [
    {
     "name": "stdout",
     "output_type": "stream",
     "text": [
      "The index and element from the array is 0 Python\n",
      "The index and element from the array is 1 Exceptions\n",
      "The index and element from the array is 2 try and except\n"
     ]
    },
    {
     "ename": "IndexError",
     "evalue": "list index out of range",
     "output_type": "error",
     "traceback": [
      "\u001b[1;31m---------------------------------------------------------------------------\u001b[0m",
      "\u001b[1;31mIndexError\u001b[0m                                Traceback (most recent call last)",
      "Cell \u001b[1;32mIn[39], line 5\u001b[0m\n\u001b[0;32m      3\u001b[0m     \u001b[38;5;66;03m#looping through the elements of the array a, choosing a range that goes beyond the length of the array  \u001b[39;00m\n\u001b[0;32m      4\u001b[0m \u001b[38;5;28;01mfor\u001b[39;00m i \u001b[38;5;129;01min\u001b[39;00m \u001b[38;5;28mrange\u001b[39m( \u001b[38;5;241m4\u001b[39m ):  \n\u001b[1;32m----> 5\u001b[0m     \u001b[38;5;28mprint\u001b[39m( \u001b[38;5;124m\"\u001b[39m\u001b[38;5;124mThe index and element from the array is\u001b[39m\u001b[38;5;124m\"\u001b[39m, i, a[i] )\n",
      "\u001b[1;31mIndexError\u001b[0m: list index out of range"
     ]
    }
   ],
   "source": [
    "#without try and except\n",
    "\n",
    "a = [\"Python\", \"Exceptions\", \"try and except\"]  \n",
    "  \n",
    "    #looping through the elements of the array a, choosing a range that goes beyond the length of the array  \n",
    "for i in range( 4 ):  \n",
    "    print( \"The index and element from the array is\", i, a[i] )  \n",
    "#if an error occurs in the try block, then except block will be executed by the Python interpreter       \n"
   ]
  },
  {
   "cell_type": "code",
   "execution_count": 41,
   "id": "36a096cc-558a-456d-baff-55b89bd4fd7a",
   "metadata": {},
   "outputs": [
    {
     "ename": "Exception",
     "evalue": "Length of the given list must be less than or equal to 3 but is 4",
     "output_type": "error",
     "traceback": [
      "\u001b[1;31m---------------------------------------------------------------------------\u001b[0m",
      "\u001b[1;31mException\u001b[0m                                 Traceback (most recent call last)",
      "Cell \u001b[1;32mIn[41], line 3\u001b[0m\n\u001b[0;32m      1\u001b[0m num \u001b[38;5;241m=\u001b[39m [\u001b[38;5;241m3\u001b[39m, \u001b[38;5;241m4\u001b[39m, \u001b[38;5;241m5\u001b[39m, \u001b[38;5;241m7\u001b[39m]  \n\u001b[0;32m      2\u001b[0m \u001b[38;5;28;01mif\u001b[39;00m \u001b[38;5;28mlen\u001b[39m(num) \u001b[38;5;241m>\u001b[39m \u001b[38;5;241m3\u001b[39m:  \n\u001b[1;32m----> 3\u001b[0m     \u001b[38;5;28;01mraise\u001b[39;00m \u001b[38;5;167;01mException\u001b[39;00m( \u001b[38;5;124mf\u001b[39m\u001b[38;5;124m\"\u001b[39m\u001b[38;5;124mLength of the given list must be less than or equal to 3 but is \u001b[39m\u001b[38;5;132;01m{\u001b[39;00m\u001b[38;5;28mlen\u001b[39m(num)\u001b[38;5;132;01m}\u001b[39;00m\u001b[38;5;124m\"\u001b[39m )\n",
      "\u001b[1;31mException\u001b[0m: Length of the given list must be less than or equal to 3 but is 4"
     ]
    }
   ],
   "source": [
    "num = [3, 4, 5, 7]  \n",
    "if len(num) > 3:  \n",
    "    raise Exception( f\"Length of the given list must be less than or equal to 3 but is {len(num)}\" )  "
   ]
  },
  {
   "cell_type": "code",
   "execution_count": 43,
   "id": "f802ddb2-7f7c-475f-9a28-2c1285e62fb6",
   "metadata": {},
   "outputs": [
    {
     "name": "stdout",
     "output_type": "stream",
     "text": [
      "0.25\n",
      "We cannot divide by zero\n"
     ]
    }
   ],
   "source": [
    "def reciprocal( num1 ):  \n",
    "    try:  \n",
    "        reci = 1 / num1  \n",
    "    except ZeroDivisionError:  \n",
    "        print( \"We cannot divide by zero\" )  \n",
    "    else:  \n",
    "        print ( reci )  \n",
    "# Calling the function and passing values  \n",
    "reciprocal( 4 )  \n",
    "reciprocal( 0 )  "
   ]
  },
  {
   "cell_type": "code",
   "execution_count": 97,
   "id": "149c1117-82d8-4730-a72f-7d84309b7362",
   "metadata": {},
   "outputs": [
    {
     "ename": "AssertionError",
     "evalue": "Give a positive integer",
     "output_type": "error",
     "traceback": [
      "\u001b[1;31m---------------------------------------------------------------------------\u001b[0m",
      "\u001b[1;31mAssertionError\u001b[0m                            Traceback (most recent call last)",
      "Cell \u001b[1;32mIn[97], line 4\u001b[0m\n\u001b[0;32m      2\u001b[0m     \u001b[38;5;28;01massert\u001b[39;00m ( Number \u001b[38;5;241m<\u001b[39m \u001b[38;5;241m0\u001b[39m), \u001b[38;5;124m\"\u001b[39m\u001b[38;5;124mGive a positive integer\u001b[39m\u001b[38;5;124m\"\u001b[39m  \n\u001b[0;32m      3\u001b[0m     \u001b[38;5;28;01mreturn\u001b[39;00m Number\u001b[38;5;241m*\u001b[39m\u001b[38;5;241m*\u001b[39m(\u001b[38;5;241m1\u001b[39m\u001b[38;5;241m/\u001b[39m\u001b[38;5;241m2\u001b[39m)  \n\u001b[1;32m----> 4\u001b[0m \u001b[38;5;28mprint\u001b[39m( square_root( \u001b[38;5;241m36\u001b[39m ) )  \n\u001b[0;32m      5\u001b[0m \u001b[38;5;28mprint\u001b[39m( square_root( \u001b[38;5;241m25\u001b[39m) )\n",
      "Cell \u001b[1;32mIn[97], line 2\u001b[0m, in \u001b[0;36msquare_root\u001b[1;34m(Number)\u001b[0m\n\u001b[0;32m      1\u001b[0m \u001b[38;5;28;01mdef\u001b[39;00m \u001b[38;5;21msquare_root\u001b[39m( Number ):  \n\u001b[1;32m----> 2\u001b[0m     \u001b[38;5;28;01massert\u001b[39;00m ( Number \u001b[38;5;241m<\u001b[39m \u001b[38;5;241m0\u001b[39m), \u001b[38;5;124m\"\u001b[39m\u001b[38;5;124mGive a positive integer\u001b[39m\u001b[38;5;124m\"\u001b[39m  \n\u001b[0;32m      3\u001b[0m     \u001b[38;5;28;01mreturn\u001b[39;00m Number\u001b[38;5;241m*\u001b[39m\u001b[38;5;241m*\u001b[39m(\u001b[38;5;241m1\u001b[39m\u001b[38;5;241m/\u001b[39m\u001b[38;5;241m2\u001b[39m)\n",
      "\u001b[1;31mAssertionError\u001b[0m: Give a positive integer"
     ]
    }
   ],
   "source": [
    "    def square_root( Number ):  \n",
    "        assert ( Number < 0), \"Give a positive integer\"  \n",
    "        return Number**(1/2)  \n",
    "    print( square_root( 36 ) )  \n",
    "    print( square_root( 25) )  "
   ]
  },
  {
   "cell_type": "code",
   "execution_count": null,
   "id": "08af73ca-f5e9-4f7d-961d-83c1ebe96486",
   "metadata": {},
   "outputs": [],
   "source": []
  }
 ],
 "metadata": {
  "kernelspec": {
   "display_name": "Python 3 (ipykernel)",
   "language": "python",
   "name": "python3"
  },
  "language_info": {
   "codemirror_mode": {
    "name": "ipython",
    "version": 3
   },
   "file_extension": ".py",
   "mimetype": "text/x-python",
   "name": "python",
   "nbconvert_exporter": "python",
   "pygments_lexer": "ipython3",
   "version": "3.12.4"
  }
 },
 "nbformat": 4,
 "nbformat_minor": 5
}
