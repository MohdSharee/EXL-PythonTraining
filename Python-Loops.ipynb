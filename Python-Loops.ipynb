{
 "cells": [
  {
   "cell_type": "code",
   "execution_count": 1,
   "id": "91c1947c-0c49-42a4-a5a4-964808dd822f",
   "metadata": {},
   "outputs": [],
   "source": [
    "#Q: Indicated whether each number was odd or even.\n",
    "\n",
    "i = 1\n",
    "while i <= 10:\n",
    "    if i % 2 == 0:\n",
    "        print(f\"{i} is even\")\n",
    "    else:\n",
    "        print(f\"{i} is odd\")\n",
    "    i += 1"
   ]
  },
  {
   "cell_type": "code",
   "execution_count": 3,
   "id": "ff390bd3-2b2d-47b1-9509-eb9944f17e1a",
   "metadata": {},
   "outputs": [],
   "source": [
    "#Q: Counted and displayed how many numbers were added while calculating the sum.\n",
    "\n",
    "i = 1\n",
    "total_sum = 0\n",
    "count = 0\n",
    "while i <= 100:\n",
    "    total_sum += i\n",
    "    count += 1\n",
    "    i += 1\n",
    "print(\"The sum is:\", total_sum)\n",
    "print(\"Total numbers added:\", count)"
   ]
  },
  {
   "cell_type": "code",
   "execution_count": 5,
   "id": "70ce4948-21e7-490b-ab98-0b01017af7a7",
   "metadata": {},
   "outputs": [],
   "source": [
    "#Q: Calculated and printed both the square and cube of each number.\n",
    "\n",
    "for i in range(1, 6):\n",
    "    square = i ** 2\n",
    "    cube = i ** 3\n",
    "    print(f\"Number: {i}, Square: {square}, Cube: {cube}\")"
   ]
  },
  {
   "cell_type": "code",
   "execution_count": 7,
   "id": "f38c8333-9e21-4f72-8632-c8a49f60da42",
   "metadata": {},
   "outputs": [],
   "source": [
    "#Q: Instead of printing index pairs, it printed random integers in the matrix.\n",
    "\n",
    "import random\n",
    "\n",
    "for i in range(3):\n",
    "    for j in range(3):\n",
    "        print(random.randint(1, 10), end=\" \")\n",
    "    print()"
   ]
  },
  {
   "cell_type": "code",
   "execution_count": null,
   "id": "74b999c6-6b8a-4140-949c-facce8c3c1f7",
   "metadata": {},
   "outputs": [],
   "source": [
    "#Q: Counted how many names were printed in uppercase.\n",
    "\n",
    "names = ['Alice', 'Bob', 'Charlie', 'Dave', 'Eve']\n",
    "count = 0\n",
    "for name in names:\n",
    "    print(name.upper())\n",
    "    count += 1\n",
    "\n",
    "print(\"Total names printed:\", count)"
   ]
  }
 ],
 "metadata": {
  "kernelspec": {
   "display_name": "Python 3 (ipykernel)",
   "language": "python",
   "name": "python3"
  },
  "language_info": {
   "codemirror_mode": {
    "name": "ipython",
    "version": 3
   },
   "file_extension": ".py",
   "mimetype": "text/x-python",
   "name": "python",
   "nbconvert_exporter": "python",
   "pygments_lexer": "ipython3",
   "version": "3.12.4"
  }
 },
 "nbformat": 4,
 "nbformat_minor": 5
}
