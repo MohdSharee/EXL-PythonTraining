{
 "cells": [
  {
   "cell_type": "markdown",
   "id": "ebfd3f9c-313e-4877-b794-cff379895f27",
   "metadata": {},
   "source": [
    "Create 1D array of numbers from 1 to 10.\n",
    "Reshape it into 2D array with dimensions 2*5\n",
    "Create a 2D array, Calculate and print sum,mean, std, min max of the array."
   ]
  },
  {
   "cell_type": "code",
   "execution_count": 51,
   "id": "aa6d3f04-5962-4481-b3bc-0b615b7dbb7b",
   "metadata": {},
   "outputs": [
    {
     "data": {
      "text/plain": [
       "array([ 1,  2,  3,  4,  5,  6,  7,  8,  9, 10])"
      ]
     },
     "execution_count": 51,
     "metadata": {},
     "output_type": "execute_result"
    }
   ],
   "source": [
    "import numpy as np\n",
    "arr=np.arange(1,11)\n",
    "arr"
   ]
  },
  {
   "cell_type": "code",
   "execution_count": 53,
   "id": "060d4af6-71fb-4772-8429-41227f6b784c",
   "metadata": {},
   "outputs": [
    {
     "data": {
      "text/plain": [
       "array([[ 1,  2,  3,  4,  5],\n",
       "       [ 6,  7,  8,  9, 10]])"
      ]
     },
     "execution_count": 53,
     "metadata": {},
     "output_type": "execute_result"
    }
   ],
   "source": [
    "arr.reshape(2,5)"
   ]
  },
  {
   "cell_type": "code",
   "execution_count": 59,
   "id": "ed761513-8292-4d82-a01b-b11cd24cc212",
   "metadata": {},
   "outputs": [
    {
     "data": {
      "text/plain": [
       "5.5"
      ]
     },
     "execution_count": 59,
     "metadata": {},
     "output_type": "execute_result"
    }
   ],
   "source": [
    "mean = np.mean(arr)\n",
    "mean"
   ]
  },
  {
   "cell_type": "code",
   "execution_count": 61,
   "id": "460a6923-0cd9-4b4d-8543-3de7e849ea27",
   "metadata": {},
   "outputs": [
    {
     "data": {
      "text/plain": [
       "5.5"
      ]
     },
     "execution_count": 61,
     "metadata": {},
     "output_type": "execute_result"
    }
   ],
   "source": [
    "median=np.median(arr)\n",
    "median"
   ]
  },
  {
   "cell_type": "code",
   "execution_count": 65,
   "id": "82728ceb-fcee-419f-a9e3-7432728f1ee3",
   "metadata": {},
   "outputs": [
    {
     "data": {
      "text/plain": [
       "55"
      ]
     },
     "execution_count": 65,
     "metadata": {},
     "output_type": "execute_result"
    }
   ],
   "source": [
    "sum=np.sum(arr)\n",
    "sum"
   ]
  },
  {
   "cell_type": "code",
   "execution_count": 69,
   "id": "dc6c4c2e-65bd-4c40-b22c-f5e83aa83e55",
   "metadata": {},
   "outputs": [
    {
     "data": {
      "text/plain": [
       "2.8722813232690143"
      ]
     },
     "execution_count": 69,
     "metadata": {},
     "output_type": "execute_result"
    }
   ],
   "source": [
    "std_dev=np.std(arr)\n",
    "std_dev"
   ]
  },
  {
   "cell_type": "code",
   "execution_count": 72,
   "id": "ed5e396b-4bb1-4011-a684-b242dc0b664e",
   "metadata": {},
   "outputs": [
    {
     "data": {
      "text/plain": [
       "1"
      ]
     },
     "execution_count": 72,
     "metadata": {},
     "output_type": "execute_result"
    }
   ],
   "source": [
    "minimum=np.min(arr)\n",
    "minimum"
   ]
  },
  {
   "cell_type": "code",
   "execution_count": 76,
   "id": "0cccc581-0614-40ec-934b-58137a947f67",
   "metadata": {},
   "outputs": [
    {
     "data": {
      "text/plain": [
       "10"
      ]
     },
     "execution_count": 76,
     "metadata": {},
     "output_type": "execute_result"
    }
   ],
   "source": [
    "maximum=np.max(arr)\n",
    "maximum"
   ]
  },
  {
   "cell_type": "code",
   "execution_count": 1,
   "id": "a3c5305f-7370-4c1b-9571-69c3c4ae7bde",
   "metadata": {},
   "outputs": [
    {
     "name": "stdout",
     "output_type": "stream",
     "text": [
      "<class 'list'>\n",
      "1\n",
      "[49, 8464, 9025, 1024, 121, 7921, 1681, 16, 2025, 9, 289, 289, 2209, 1600, 16, 6400, 100, 2401, 5329, 9025, 576, 25, 4489, 64, 196, 2601, 1521, 2304, 3249, 10000, 7921, 1024, 4624, 529]\n",
      "[[  7  92  95  32  11  89  41   4  45   3  17  17  47  40   4  80  10  49\n",
      "   73  95  24   5  67   8  14  51  39  48  57 100  89  32  68  23]]\n"
     ]
    },
    {
     "data": {
      "text/plain": [
       "array([[   49,  8464,  9025,  1024,   121,  7921,  1681,    16,  2025,\n",
       "            9,   289,   289,  2209,  1600,    16,  6400,   100,  2401,\n",
       "         5329,  9025,   576,    25,  4489,    64,   196,  2601,  1521,\n",
       "         2304,  3249, 10000,  7921,  1024,  4624,   529]])"
      ]
     },
     "execution_count": 1,
     "metadata": {},
     "output_type": "execute_result"
    }
   ],
   "source": [
    "lst = [[7, 92, 95, 32, 11, 89, 41, 4, 45, 3, 17, 17, 47, 40, 4, 80, 10, 49, 73, 95, 24, 5, 67, 8, 14, 51, 39, 48, 57, 100, 89, 32, 68, 23]]\n",
    "print(type(lst))\n",
    "shape = len(lst)\n",
    "print(shape)\n",
    "lst1 = [x**2 for x in lst[0]]\n",
    "print(lst1)\n",
    "\n",
    "import numpy as np\n",
    "arr1=np.array(lst)\n",
    "print(arr1)\n",
    "arr1.shape\n",
    "arr1.dtype\n",
    "arr1*arr1"
   ]
  },
  {
   "cell_type": "code",
   "execution_count": 3,
   "id": "3a2bb5a1-c1f1-4bee-8acd-b5a8b0c4ddb8",
   "metadata": {},
   "outputs": [
    {
     "name": "stdout",
     "output_type": "stream",
     "text": [
      "[[ 1  2  3  4  5]\n",
      " [ 6  7  8  9 10]]\n",
      "[[1 2 3 4 5]]\n",
      "5.5\n",
      "55\n",
      "2.8722813232690143\n"
     ]
    }
   ],
   "source": [
    "import numpy as np\n",
    "arr2=np.array([1,2,3,4,5,6,7,8,9,10])\n",
    "arr3=arr2.reshape(2,5)\n",
    "print(arr3)\n",
    "print(arr3[0:1])\n",
    "print(arr3.mean())\n",
    "print(arr3.sum())\n",
    "print(arr3.std())"
   ]
  },
  {
   "cell_type": "code",
   "execution_count": 5,
   "id": "2a50a55c-2dc4-4424-b003-b3b1bc54986d",
   "metadata": {},
   "outputs": [
    {
     "name": "stdout",
     "output_type": "stream",
     "text": [
      "    Name  Age Gender      City  Marks\n",
      "0  Alice   20      F  New York     85\n",
      "1    Bob   22      M    Boston     90\n",
      "2  Carol   19      F   Chicago     78\n",
      "3   Dave   21      M   Seattle     88\n"
     ]
    }
   ],
   "source": [
    "import pandas as pd\n",
    "data = {\n",
    "    'Name': ['Alice', 'Bob', 'Carol', 'Dave'],\n",
    "    'Age': [20, 22, 19, 21],\n",
    "    'Gender': ['F', 'M', 'F', 'M'],\n",
    "    'City': ['New York', 'Boston', 'Chicago', 'Seattle'],\n",
    "    'Marks': [85, 90, 78, 88]\n",
    "}\n",
    "\n",
    "df = pd.DataFrame(data)\n",
    "\n",
    "print(df)"
   ]
  }
 ],
 "metadata": {
  "kernelspec": {
   "display_name": "Python 3 (ipykernel)",
   "language": "python",
   "name": "python3"
  },
  "language_info": {
   "codemirror_mode": {
    "name": "ipython",
    "version": 3
   },
   "file_extension": ".py",
   "mimetype": "text/x-python",
   "name": "python",
   "nbconvert_exporter": "python",
   "pygments_lexer": "ipython3",
   "version": "3.12.4"
  }
 },
 "nbformat": 4,
 "nbformat_minor": 5
}
