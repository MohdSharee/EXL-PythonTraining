{
 "cells": [
  {
   "cell_type": "markdown",
   "id": "d704942f-5c69-4f5e-a697-21dca2fb839f",
   "metadata": {},
   "source": [
    "Write a python program to perform basic arithmetic and string operations"
   ]
  },
  {
   "cell_type": "code",
   "execution_count": null,
   "id": "33d56b99-9a11-4263-af3f-f208763d24e1",
   "metadata": {},
   "outputs": [
    {
     "name": "stdin",
     "output_type": "stream",
     "text": [
      "Enter first value : 10\n",
      "Enter second value : 878\n"
     ]
    },
    {
     "name": "stdout",
     "output_type": "stream",
     "text": [
      "Choose one of the following operation you want to perform: \n",
      " for addition:'add' \n",
      " for subtract:'subtract' \n",
      " for multiply:'multiply' \n",
      " for divide:'divide' \n",
      " for exponent: power\n"
     ]
    },
    {
     "name": "stdin",
     "output_type": "stream",
     "text": [
      "enter the type of operation 878\n"
     ]
    },
    {
     "name": "stdout",
     "output_type": "stream",
     "text": [
      "operation is not defined\n"
     ]
    }
   ],
   "source": [
    "#Arithmetic Operation\n",
    "x=int(input(\"Enter first value :\"))\n",
    "y=int(input(\"Enter second value :\"))\n",
    "print(\"Choose one of the following operation you want to perform: \\n for addition:'add' \\n for subtract:'subtract' \\n for multiply:'multiply' \\n for divide:'divide' \\n for exponent: power\")\n",
    "\n",
    "operation=input(\"enter the type of operation\")\n",
    "if operation == \"add\":\n",
    "    print(x+y)\n",
    "elif operation == \"subtract\":\n",
    "    print(x-y)\n",
    "elif operation == \"multiply\":\n",
    "    print(x*y)\n",
    "elif operation == \"divide\":\n",
    "    print(x/y)\n",
    "    if y==0:\n",
    "      print(\"Error : Division by zero\")\n",
    "elif operation == \"power\":\n",
    "    print(x**y)\n",
    "else:\n",
    "    print(\"operation is not defined\")\n",
    "\n"
   ]
  },
  {
   "cell_type": "code",
   "execution_count": 87,
   "id": "46c95848-baa9-4215-9026-75b16ee1d827",
   "metadata": {},
   "outputs": [
    {
     "name": "stdout",
     "output_type": "stream",
     "text": [
      "Hello World\n",
      "11\n",
      "H\n",
      "o\n",
      "lo Worl\n",
      "Hell\n",
      "['Hello', 'World']\n",
      "Hello World\n",
      "HELLO \n",
      "world\n",
      "HelloAll\n",
      "13\n",
      "2\n"
     ]
    }
   ],
   "source": [
    "#String Operation\n",
    "\n",
    "str1=\"Hello \"\n",
    "str2=\"World\"\n",
    "combine_str=str1+str2\n",
    "print(combine_str)\n",
    "print(len(combine_str))\n",
    "\n",
    "#indexing and slicing\n",
    "print(combine_str[0])\n",
    "print(combine_str[4])\n",
    "print(combine_str[3:10])\n",
    "print(combine_str[0:4])\n",
    "\n",
    "#split and join string\n",
    "spt_str=str.split(combine_str)\n",
    "print(spt_str)\n",
    "join_str=\" \".join(spt_str)\n",
    "print(join_str)\n",
    "\n",
    "#upper and lower case\n",
    "print(str1.upper())\n",
    "print(str2.lower())\n",
    "\n",
    "str4=\"           HelloAll            \"\n",
    "print(str4.strip())\n",
    "\n",
    "print(str4.find(\"ll\"))\n",
    "print(str4.count(\"ll\"))\n"
   ]
  },
  {
   "cell_type": "markdown",
   "id": "ad42644b-de7a-40fd-a62c-f7ab9bba0388",
   "metadata": {},
   "source": [
    "Write a program to convert data types"
   ]
  },
  {
   "cell_type": "code",
   "execution_count": 128,
   "id": "597a2ac1-4530-45a3-b247-cbb02e643cf2",
   "metadata": {},
   "outputs": [
    {
     "name": "stdout",
     "output_type": "stream",
     "text": [
      "20\n",
      "20.0\n",
      "201.0\n",
      "10.05\n",
      "10.05\n",
      "10\n",
      "10\n",
      "True\n",
      "False\n",
      "True\n",
      "False\n"
     ]
    }
   ],
   "source": [
    "#string to integer\n",
    "str1='20'\n",
    "int1=int(str1)\n",
    "print(int1)\n",
    "\n",
    "#string to float\n",
    "float1=float(str1)\n",
    "print(float1)\n",
    "\n",
    "\n",
    "#integer to float\n",
    "int2=201\n",
    "float2=float(int2)\n",
    "print(float2)\n",
    "\n",
    "#integer to float\n",
    "float3=int2/int1\n",
    "print(float3)\n",
    "\n",
    "#string to float\n",
    "str3=str(float3)\n",
    "print(str3)\n",
    "\n",
    "#integer to float\n",
    "int4=int(float3)\n",
    "print(int4)\n",
    "\n",
    "#string to integer\n",
    "str4=str(int4)\n",
    "print(int4)\n",
    "\n",
    "#integer to boolean\n",
    "bool1=bool(int4)\n",
    "print(bool1)\n",
    "\n",
    "int5=0\n",
    "bool2=bool(int5)\n",
    "print(bool2)\n",
    "\n",
    "# string to boolean \n",
    "bool3=bool(str4)\n",
    "print(bool3)\n",
    "\n",
    "str10=\"\"\n",
    "bool4=bool(str10)\n",
    "print(bool4)"
   ]
  },
  {
   "cell_type": "code",
   "execution_count": null,
   "id": "8570094e-5a5a-47ef-aace-150c33f62aa8",
   "metadata": {},
   "outputs": [],
   "source": []
  }
 ],
 "metadata": {
  "kernelspec": {
   "display_name": "Python 3 (ipykernel)",
   "language": "python",
   "name": "python3"
  },
  "language_info": {
   "codemirror_mode": {
    "name": "ipython",
    "version": 3
   },
   "file_extension": ".py",
   "mimetype": "text/x-python",
   "name": "python",
   "nbconvert_exporter": "python",
   "pygments_lexer": "ipython3",
   "version": "3.12.4"
  }
 },
 "nbformat": 4,
 "nbformat_minor": 5
}
