{
 "cells": [
  {
   "cell_type": "markdown",
   "id": "5e321936-4c86-44c1-95d0-a13b0ee4a5ef",
   "metadata": {},
   "source": [
    "Write a program that defines a function to calculate factorial of a number."
   ]
  },
  {
   "cell_type": "code",
   "execution_count": 135,
   "id": "5cfb24f3-0d73-42d8-b5c7-b145e7ceac13",
   "metadata": {},
   "outputs": [
    {
     "name": "stdout",
     "output_type": "stream",
     "text": [
      "120\n"
     ]
    }
   ],
   "source": [
    "def factorial(n):\n",
    "    result=1\n",
    "    for i in range(1,n+1):\n",
    "        result *=i\n",
    "    return result\n",
    "n=5\n",
    "print(factorial(n))"
   ]
  },
  {
   "cell_type": "markdown",
   "id": "1184ec61-354b-4eca-8fe0-eeb5fd8ebb5f",
   "metadata": {},
   "source": [
    "Some problems on built-in and user defined functions"
   ]
  },
  {
   "cell_type": "code",
   "execution_count": 43,
   "id": "321f4b32-a5df-4d86-b9bd-eec9b7f4fc15",
   "metadata": {},
   "outputs": [
    {
     "name": "stdout",
     "output_type": "stream",
     "text": [
      "Maximum value: 333\n"
     ]
    }
   ],
   "source": [
    "#Write a function to find the maximum value from a list of numbers using the built-in  max() function.\n",
    "\n",
    "def find_max(numbers):\n",
    "    return max(numbers)\n",
    "numbers=[1,2,3,4,44,54,55,333,22,2]\n",
    "result=print(\"Maximum value:\",find_max(numbers))"
   ]
  },
  {
   "cell_type": "code",
   "execution_count": 56,
   "id": "ee5955ed-ee43-4354-b841-03fd093fdf4e",
   "metadata": {},
   "outputs": [
    {
     "name": "stdout",
     "output_type": "stream",
     "text": [
      "Sum of elements: 26\n"
     ]
    }
   ],
   "source": [
    "#Sum of elements:Write a function to calculate the sum of elements in a list using the built-in sum() fn.\n",
    "\n",
    "def cal_sum(elements):\n",
    "    return sum(elements)\n",
    "elements=[1,2,3,4,5,5,6]\n",
    "result=print(\"Sum of elements:\", cal_sum(elements))"
   ]
  },
  {
   "cell_type": "code",
   "execution_count": 19,
   "id": "22b572b0-d378-470d-b978-c0979eb29264",
   "metadata": {},
   "outputs": [
    {
     "name": "stdout",
     "output_type": "stream",
     "text": [
      "the reversed string is:  EERAHS\n"
     ]
    }
   ],
   "source": [
    "#Write a fn to reverse a string using the built-in fn reversed() fn and return it as a string.\n",
    "\n",
    "def rev_string(string):\n",
    "    return ''.join(reversed(string))\n",
    "\n",
    "string=\"SHAREE\"\n",
    "result=print(\"the reversed string is: \", rev_string(string))"
   ]
  },
  {
   "cell_type": "code",
   "execution_count": 31,
   "id": "0c4b7d64-7a0d-4f81-bd00-92d3f1bfd416",
   "metadata": {},
   "outputs": [
    {
     "name": "stdout",
     "output_type": "stream",
     "text": [
      "check if elements of list are true: True\n"
     ]
    }
   ],
   "source": [
    "#Write a fn to check if all elements of a list are True using the build-in all() fn.\n",
    "\n",
    "def check_all_true(elements):\n",
    "    return all(elements)\n",
    "elements=[1,2,3,4,5,66, True, \"Sharee\",1]\n",
    "result=print(\"check if elements of list are true:\", check_all_true(elements))"
   ]
  },
  {
   "cell_type": "code",
   "execution_count": 45,
   "id": "e44ccba6-9524-48ad-a63f-401f30d094a0",
   "metadata": {},
   "outputs": [
    {
     "name": "stdout",
     "output_type": "stream",
     "text": [
      "even numbers are: [0, 2, 4, 6, 8, 10, 12, 14, 16, 18, 20, 22, 24, 26, 28, 30, 32, 34, 36, 38, 40, 42, 44, 46, 48, 50, 52, 54, 56, 58, 60, 62, 64, 66, 68, 70, 72, 74, 76, 78, 80, 82, 84, 86, 88, 90, 92, 94, 96, 98, 100]\n"
     ]
    }
   ],
   "source": [
    "#Write a fn that generates a list of even numbers from 0 to n using the built-in range() function.\n",
    "\n",
    "def even_num(n):\n",
    "    return list(range(0,n+1,2))\n",
    "n=100\n",
    "print(\"even numbers are:\",even_num(n))"
   ]
  },
  {
   "cell_type": "code",
   "execution_count": 61,
   "id": "db41f62f-b855-4ffe-939c-085adcfb5014",
   "metadata": {},
   "outputs": [
    {
     "name": "stdout",
     "output_type": "stream",
     "text": [
      "GCD : 30\n"
     ]
    }
   ],
   "source": [
    "#Write a user defined fn gcd(a,b) to find the greatest common divisor (GCD) of two numbers using recursion.\n",
    "\n",
    "def gcd(a,b):\n",
    "    if b==0:\n",
    "        return a\n",
    "    return gcd(b, a%b)\n",
    "\n",
    "print(\"GCD :\", gcd(60,90))"
   ]
  },
  {
   "cell_type": "code",
   "execution_count": 99,
   "id": "60b93e86-bc54-479d-89d3-7aa4f92daca1",
   "metadata": {},
   "outputs": [
    {
     "name": "stdout",
     "output_type": "stream",
     "text": [
      "is palindrome : True\n",
      "\n",
      "is palindrome : palindrome\n"
     ]
    }
   ],
   "source": [
    "#Write a fn is_palindrome(s) that checks whether a string is a palindrome.\n",
    "\n",
    "def is_palindrome(s):\n",
    "    return s==s[::-1]\n",
    "\n",
    "word = \"ArorA\"\n",
    "result=print(\"is palindrome :\", is_palindrome(s))\n",
    "\n",
    "\n",
    "#or\n",
    "print()\n",
    "\n",
    "def is_palindrome(s):\n",
    "    if s==s[::-1]:\n",
    "        return \"palindrome\"\n",
    "    else:\n",
    "        return\"not a palindrome\"\n",
    "\n",
    "s = \"madam\"\n",
    "result=print(\"is palindrome :\", is_palindrome(s))"
   ]
  },
  {
   "cell_type": "code",
   "execution_count": 125,
   "id": "826d92b4-8002-478f-9216-7ca57d7d7f89",
   "metadata": {},
   "outputs": [
    {
     "name": "stdout",
     "output_type": "stream",
     "text": [
      "True\n"
     ]
    }
   ],
   "source": [
    "#Write a fn is_prime(n) to check if a number n is prime.\n",
    "\n",
    "def is_prime(n):\n",
    "    if n<=1:\n",
    "        return False\n",
    "    for i in range(2,int(n**0.5) +1):\n",
    "        if n%i==0:\n",
    "            return False\n",
    "    return True\n",
    "\n",
    "n=13\n",
    "print(is_prime(n))"
   ]
  },
  {
   "cell_type": "code",
   "execution_count": null,
   "id": "63879d4b-7c83-4d23-8d53-187abc312f28",
   "metadata": {},
   "outputs": [],
   "source": []
  }
 ],
 "metadata": {
  "kernelspec": {
   "display_name": "Python 3 (ipykernel)",
   "language": "python",
   "name": "python3"
  },
  "language_info": {
   "codemirror_mode": {
    "name": "ipython",
    "version": 3
   },
   "file_extension": ".py",
   "mimetype": "text/x-python",
   "name": "python",
   "nbconvert_exporter": "python",
   "pygments_lexer": "ipython3",
   "version": "3.12.4"
  }
 },
 "nbformat": 4,
 "nbformat_minor": 5
}
