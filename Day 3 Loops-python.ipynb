{
 "cells": [
  {
   "cell_type": "markdown",
   "id": "7721fd02-25c7-47ce-b7db-c3028acb5ad2",
   "metadata": {},
   "source": [
    "Write a program to calculate factorial of a number"
   ]
  },
  {
   "cell_type": "code",
   "execution_count": 2,
   "id": "b0920485-996c-4470-ad00-6a1d411e480b",
   "metadata": {},
   "outputs": [
    {
     "name": "stdin",
     "output_type": "stream",
     "text": [
      "enter your number 10\n"
     ]
    },
    {
     "name": "stdout",
     "output_type": "stream",
     "text": [
      "The factorial of given number is:  3628800\n"
     ]
    }
   ],
   "source": [
    "number=int(input(\"enter your number\"))\n",
    "factorial=1\n",
    "if number<0:\n",
    "    print(\"type positive number\")\n",
    "elif  number==0:\n",
    "    print(\"factorial of zero is 1\")\n",
    "else:\n",
    "    for i in range(1,number+1):\n",
    "        factorial=factorial*i\n",
    "    print(\"The factorial of given number is: \",factorial)"
   ]
  },
  {
   "cell_type": "markdown",
   "id": "64bed44c-bbd0-49a0-8741-e52e9f2d699b",
   "metadata": {},
   "source": [
    "Questions on Loops"
   ]
  },
  {
   "cell_type": "code",
   "execution_count": 4,
   "id": "e5a87279-bcec-4aed-a28e-9f5d5d930237",
   "metadata": {},
   "outputs": [
    {
     "name": "stdout",
     "output_type": "stream",
     "text": [
      "55\n"
     ]
    }
   ],
   "source": [
    "#Write a program to calculate the sum of all the numbers from 1 to 10 using for loop.\n",
    "sum=0\n",
    "for i in range(1,11):\n",
    "    sum=sum+i\n",
    "print(sum)"
   ]
  },
  {
   "cell_type": "code",
   "execution_count": 5,
   "id": "89572960-4808-469b-adf2-670d5e98639f",
   "metadata": {},
   "outputs": [
    {
     "name": "stdout",
     "output_type": "stream",
     "text": [
      "5 10 15 20 25 "
     ]
    }
   ],
   "source": [
    "#Print all elements of the list numbers = [5,10,15,20,25] using for loop.\n",
    "\n",
    "numbers=[5,10,15,20,25]\n",
    "for i in numbers:\n",
    "    print(i, end=\" \")"
   ]
  },
  {
   "cell_type": "code",
   "execution_count": 6,
   "id": "03f7f478-1dc0-4bc0-ae7d-3e9013fb2909",
   "metadata": {},
   "outputs": [
    {
     "name": "stdin",
     "output_type": "stream",
     "text": [
      "enter your word 10\n"
     ]
    },
    {
     "name": "stdout",
     "output_type": "stream",
     "text": [
      "1 0 "
     ]
    }
   ],
   "source": [
    "#Write a program to print each character of a string on a new line using a for loop.\n",
    "\n",
    "str = input(\"enter your word\")\n",
    "\n",
    "for i in str:\n",
    "    print(i, end=\" \")"
   ]
  },
  {
   "cell_type": "code",
   "execution_count": 7,
   "id": "7116a9fe-b6b2-4025-bd8b-22cc696ccff1",
   "metadata": {},
   "outputs": [
    {
     "name": "stdout",
     "output_type": "stream",
     "text": [
      "[9, 36, 81, 144]\n"
     ]
    }
   ],
   "source": [
    "#Use a for loop and range() to square each element of the list nums=[3,6,9,12] and store the result in new list.\n",
    "\n",
    "nums=[3,6,9,12]\n",
    "new_list=[]\n",
    "\n",
    "for i in nums:\n",
    "    j=i**2\n",
    "    new_list.append(j)\n",
    "print(new_list)"
   ]
  },
  {
   "cell_type": "code",
   "execution_count": 8,
   "id": "44c2f04f-292c-4f60-b0fa-262b212fac52",
   "metadata": {},
   "outputs": [
    {
     "name": "stdout",
     "output_type": "stream",
     "text": [
      "1\t2\t3\t4\t5\t6\t7\t8\t9\t10\t\n",
      "2\t4\t6\t8\t10\t12\t14\t16\t18\t20\t\n",
      "3\t6\t9\t12\t15\t18\t21\t24\t27\t30\t\n",
      "4\t8\t12\t16\t20\t24\t28\t32\t36\t40\t\n",
      "5\t10\t15\t20\t25\t30\t35\t40\t45\t50\t\n",
      "6\t12\t18\t24\t30\t36\t42\t48\t54\t60\t\n",
      "7\t14\t21\t28\t35\t42\t49\t56\t63\t70\t\n",
      "8\t16\t24\t32\t40\t48\t56\t64\t72\t80\t\n",
      "9\t18\t27\t36\t45\t54\t63\t72\t81\t90\t\n",
      "10\t20\t30\t40\t50\t60\t70\t80\t90\t100\t\n"
     ]
    }
   ],
   "source": [
    "#use a nested for loop to print the multiplication table from 1 to 10.\n",
    "\n",
    "for i in range(1,11):\n",
    "    for j in range(1,11):\n",
    "        print(i*j, end=\"\\t\")\n",
    "    print()        "
   ]
  },
  {
   "cell_type": "code",
   "execution_count": 9,
   "id": "2df26289-8008-4f58-87fd-9473ab81be0a",
   "metadata": {},
   "outputs": [
    {
     "name": "stdout",
     "output_type": "stream",
     "text": [
      "1\n",
      "2\n",
      "3\n",
      "4\n",
      "5\n"
     ]
    }
   ],
   "source": [
    "#write a program to print numbers from 1 to 5 using a while loop.\n",
    "\n",
    "i=1\n",
    "while i<=5:\n",
    "    print(i)\n",
    "    i=i+1\n",
    "    "
   ]
  },
  {
   "cell_type": "code",
   "execution_count": 10,
   "id": "14c5a96b-6704-4c89-8cf7-a4ad94793f83",
   "metadata": {},
   "outputs": [
    {
     "name": "stdout",
     "output_type": "stream",
     "text": [
      "reversed number: 4321\n"
     ]
    }
   ],
   "source": [
    "#write a program to reverse a number using a while loop.\n",
    "\n",
    "number = 1234\n",
    "rev_num = 0\n",
    "\n",
    "while number>0:\n",
    "    digit = number%10\n",
    "    rev_num = rev_num*10+digit\n",
    "    number //=10\n",
    "print(\"reversed number:\", rev_num)"
   ]
  },
  {
   "cell_type": "code",
   "execution_count": 11,
   "id": "e16a174f-f17c-4fcf-95e2-964cef2778af",
   "metadata": {},
   "outputs": [],
   "source": [
    "#Write a program that keeps running until the user enters \"stop\". keep taking user input and printing it.\n",
    "\n"
   ]
  },
  {
   "cell_type": "code",
   "execution_count": 9,
   "id": "d500adf5-9c0c-4cd7-86a2-547b40f0e906",
   "metadata": {},
   "outputs": [
    {
     "name": "stdout",
     "output_type": "stream",
     "text": [
      "1 2 3 4 5 6 7 8 9 10 11 12 "
     ]
    }
   ],
   "source": [
    "#Write a program to print numbers from 1 to 20, but break the loop if the number is 13.\n",
    "\n",
    "for i in range(1,21):\n",
    "    if i==13:\n",
    "        break\n",
    "    print(i, end=\" \")"
   ]
  },
  {
   "cell_type": "code",
   "execution_count": 15,
   "id": "b1e454f4-5fb1-47e8-9052-d864f3dea590",
   "metadata": {},
   "outputs": [
    {
     "name": "stdout",
     "output_type": "stream",
     "text": [
      "1 2 3 "
     ]
    }
   ],
   "source": [
    "#print all elements of the list numbers= [1,2,3,-1,-5], but break the loop if any element is negative.\n",
    "\n",
    "numbers= [1,2,3,-1,-5]\n",
    "for i in numbers:\n",
    "    if i<0:\n",
    "        break\n",
    "    print(i, end=\" \")"
   ]
  },
  {
   "cell_type": "code",
   "execution_count": 25,
   "id": "01bb1b34-d8e8-4891-946e-d104a58dd9e8",
   "metadata": {},
   "outputs": [
    {
     "name": "stdout",
     "output_type": "stream",
     "text": [
      "(2,1)\t(3,1)\t(3,2)\t(4,1)\t(4,2)\t(4,3)\t(5,1)\t(5,2)\t(5,3)\t(5,4)\t(6,1)\t(6,2)\t(6,3)\t(6,4)\t(6,5)\t(7,1)\t(7,2)\t(7,3)\t(7,4)\t(7,5)\t(7,6)\t(8,1)\t(8,2)\t(8,3)\t(8,4)\t(8,5)\t(8,6)\t(8,7)\t(9,1)\t(9,2)\t(9,3)\t(9,4)\t(9,5)\t(9,6)\t(9,7)\t(9,8)\t"
     ]
    }
   ],
   "source": [
    "#Use a nested loop to generate pairs (i,j), but break the if i==j.\n",
    "\n",
    "for i in range(1,10):\n",
    "    for j in range(1,10):\n",
    "        if i==j:\n",
    "            break\n",
    "        print(f\"({i},{j})\", end=\"\\t\")"
   ]
  },
  {
   "cell_type": "code",
   "execution_count": 1,
   "id": "d2e5b079-ab5d-405c-a1ab-94ad102877c1",
   "metadata": {},
   "outputs": [
    {
     "name": "stdout",
     "output_type": "stream",
     "text": [
      "2\t4\t6\t8\t10\t"
     ]
    }
   ],
   "source": [
    "#Write a program to print numbers from 1 to 10, but skip odd numbers using the continue statement.\n",
    "\n",
    "for i in range(1,11):\n",
    "    if i%2 !=0:\n",
    "        continue\n",
    "    print(i, end=\"\\t\")"
   ]
  },
  {
   "cell_type": "code",
   "execution_count": 3,
   "id": "57d803ec-0401-4c3c-b99a-0452e616daf6",
   "metadata": {},
   "outputs": [
    {
     "name": "stdout",
     "output_type": "stream",
     "text": [
      "Reciprocal of 2: 0.5\n",
      "Reciprocal of 4: 0.25\n",
      "Reciprocal of 6: 0.16666666666666666\n",
      "Reciprocal of 8: 0.125\n"
     ]
    }
   ],
   "source": [
    "#Write a program to calculate the reciprocal of all elements in the list numbers =[2,4,0,6,8] but skip the element 0.\n",
    "numbers =[2,4,0,6,8]\n",
    "for i in numbers:\n",
    "    if i==0:\n",
    "        continue\n",
    "    print(f\"Reciprocal of {i}: {1/i}\")"
   ]
  },
  {
   "cell_type": "code",
   "execution_count": 11,
   "id": "507d5b90-7ed2-43fc-a330-72d761c85b33",
   "metadata": {},
   "outputs": [],
   "source": [
    "#Write a program to create an empty for loop that does nothing.\n",
    "\n",
    "for i in range(1,100):\n",
    "    pass\n"
   ]
  },
  {
   "cell_type": "code",
   "execution_count": 17,
   "id": "ab23356f-092a-4d42-a076-898797d7b4a1",
   "metadata": {},
   "outputs": [
    {
     "name": "stdout",
     "output_type": "stream",
     "text": [
      "5 10\n"
     ]
    }
   ],
   "source": [
    "#use an if - else statement where the if condition does nothing.\n",
    "\n",
    "a=5\n",
    "b=10\n",
    "if a>b:\n",
    "    pass\n",
    "else:\n",
    "    print(a,b)"
   ]
  },
  {
   "cell_type": "code",
   "execution_count": 23,
   "id": "ba93334f-0ec0-41ce-b6f3-25c23c893892",
   "metadata": {},
   "outputs": [
    {
     "name": "stdout",
     "output_type": "stream",
     "text": [
      "1 2 4 5 7 "
     ]
    }
   ],
   "source": [
    "#Write a program to iterate through a list and ignore elements with the value \"none\"\n",
    "\n",
    "lst=[1,2, None, 4, 5, None, 7]\n",
    "\n",
    "for i in lst:\n",
    "    if i is None:\n",
    "        pass\n",
    "    else:\n",
    "        print(i, end=\" \")"
   ]
  },
  {
   "cell_type": "code",
   "execution_count": null,
   "id": "9e91609b-4a77-4997-9d76-167ce03189d0",
   "metadata": {},
   "outputs": [],
   "source": []
  }
 ],
 "metadata": {
  "kernelspec": {
   "display_name": "Python 3 (ipykernel)",
   "language": "python",
   "name": "python3"
  },
  "language_info": {
   "codemirror_mode": {
    "name": "ipython",
    "version": 3
   },
   "file_extension": ".py",
   "mimetype": "text/x-python",
   "name": "python",
   "nbconvert_exporter": "python",
   "pygments_lexer": "ipython3",
   "version": "3.12.4"
  }
 },
 "nbformat": 4,
 "nbformat_minor": 5
}
