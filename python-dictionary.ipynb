{
 "cells": [
  {
   "cell_type": "markdown",
   "id": "b807509e-418f-4ede-ad77-86b0947d5417",
   "metadata": {},
   "source": [
    "# Dictionary"
   ]
  },
  {
   "cell_type": "code",
   "execution_count": 2,
   "id": "b085df90-badc-49a3-9358-11d55d4ea012",
   "metadata": {},
   "outputs": [
    {
     "name": "stdout",
     "output_type": "stream",
     "text": [
      "{0: 10, 1: 20, 2: 30}\n"
     ]
    }
   ],
   "source": [
    "#Q1: Add a key to a dictionary\n",
    "\n",
    "\n",
    "dic = {0: 10, 1: 20}\n",
    "\n",
    "dic.update({2: 30})\n",
    "\n",
    "print(dic)"
   ]
  },
  {
   "cell_type": "code",
   "execution_count": 3,
   "id": "6cab63c7-b2d8-48e8-8dd8-091b58f79a0a",
   "metadata": {},
   "outputs": [
    {
     "name": "stdout",
     "output_type": "stream",
     "text": [
      "{1: 10, 2: 20, 3: 30, 4: 40, 5: 50, 6: 60}\n"
     ]
    }
   ],
   "source": [
    "#Q2: Concatenate dictionaries to create a new one\n",
    "\n",
    "      \n",
    "\n",
    "# Initialize the dictionaries\n",
    "dic1 = {1: 10, 2: 20}\n",
    "dic2 = {3: 30, 4: 40}\n",
    "dic3 = {5: 50, 6: 60}\n",
    "\n",
    "\n",
    "dic4 = {}\n",
    "\n",
    "\n",
    "for i in (dic1, dic2, dic3):\n",
    "    dic4.update(i)\n",
    "\n",
    "\n",
    "print(dic4)"
   ]
  },
  {
   "cell_type": "code",
   "execution_count": 4,
   "id": "da9f386b-80ee-4113-aea1-e10c8bac3c76",
   "metadata": {},
   "outputs": [
    {
     "name": "stdout",
     "output_type": "stream",
     "text": [
      "{2: 20, 3: 30, 4: 40, 5: 50, 6: 60}\n"
     ]
    }
   ],
   "source": [
    "#Q3: Remove a key from a dictionary\n",
    "\n",
    "dic4 = {1: 10, 2: 20, 3: 30, 4: 40, 5: 50, 6: 60}\n",
    "\n",
    "if 1 in dic4:\n",
    "    \n",
    "    del dic4[1]\n",
    "\n",
    "\n",
    "print(dic4)"
   ]
  },
  {
   "cell_type": "code",
   "execution_count": 5,
   "id": "072ceb7b-edea-4b8a-ba22-f02cd3621d40",
   "metadata": {},
   "outputs": [
    {
     "name": "stdout",
     "output_type": "stream",
     "text": [
      "1:10\n",
      "2:20\n",
      "3:30\n",
      "4:40\n",
      "5:50\n",
      "6:60\n"
     ]
    }
   ],
   "source": [
    "#Q4: Sort a dictionary by key\n",
    "\n",
    "dic4 = {1: 10, 2: 20, 3: 30, 5: 50, 4: 40, 6: 60}\n",
    "\n",
    "\n",
    "for key in sorted(dic4):\n",
    "    print(f\"{key}:{dic4[key]}\")"
   ]
  },
  {
   "cell_type": "code",
   "execution_count": 6,
   "id": "1579a4f1-e7e6-4f70-9566-44049986bfe2",
   "metadata": {},
   "outputs": [
    {
     "name": "stdout",
     "output_type": "stream",
     "text": [
      "{'w': 1, '3': 1, 'r': 2, 'e': 2, 's': 1, 'o': 1, 'u': 1, 'c': 1}\n"
     ]
    }
   ],
   "source": [
    "#Q5: Create a dictionary from a string\n",
    "\n",
    "dic6 = {}\n",
    "\n",
    "string = 'w3resource'\n",
    "\n",
    "\n",
    "for i in string:\n",
    "    dic6[i] = dic6.get(i, 0) + 1\n",
    "\n",
    "print(dic6)"
   ]
  },
  {
   "cell_type": "code",
   "execution_count": 7,
   "id": "d2f12d2a-7c56-4480-9d95-bc1592bf6359",
   "metadata": {},
   "outputs": [
    {
     "name": "stdout",
     "output_type": "stream",
     "text": [
      "[18, 22, 20, 18]\n",
      "[]\n"
     ]
    }
   ],
   "source": [
    "#Q6: Convert a list of dictionaries into a list of values corresponding to the specified key\n",
    "\n",
    "list = []\n",
    "\n",
    "\n",
    "orignal_list = [{'name': 'Theodore', 'age': 18}, {'name': 'Mathew', 'age': 22},\n",
    "                {'name': 'Roxanne', 'age': 20}, {'name': 'David', 'age': 18}]\n",
    "\n",
    "\n",
    "for i in orignal_list:\n",
    "    list.append(i['age'])\n",
    "\n",
    "print(list)\n",
    "\n",
    "orignal_list.clear()\n",
    "\n",
    "\n",
    "dict5 = orignal_list.copy()\n",
    "\n",
    "print(dict5)"
   ]
  },
  {
   "cell_type": "code",
   "execution_count": 8,
   "id": "ca6d10e7-c33b-4013-bdbb-565b2e967a6e",
   "metadata": {},
   "outputs": [
    {
     "name": "stdout",
     "output_type": "stream",
     "text": [
      "Mustang\n"
     ]
    }
   ],
   "source": [
    "#Q7: Get the value of a key from a dictionary\n",
    "    \n",
    "\n",
    "car = {\n",
    "    \"brand\": \"Ford\",\n",
    "    \"model\": \"Mustang\",\n",
    "    \"year\": 1964\n",
    "}\n",
    "\n",
    "x = car.get(\"model\")\n",
    "\n",
    "print(x)"
   ]
  }
 ],
 "metadata": {
  "kernelspec": {
   "display_name": "Python 3 (ipykernel)",
   "language": "python",
   "name": "python3"
  },
  "language_info": {
   "codemirror_mode": {
    "name": "ipython",
    "version": 3
   },
   "file_extension": ".py",
   "mimetype": "text/x-python",
   "name": "python",
   "nbconvert_exporter": "python",
   "pygments_lexer": "ipython3",
   "version": "3.12.4"
  }
 },
 "nbformat": 4,
 "nbformat_minor": 5
}
