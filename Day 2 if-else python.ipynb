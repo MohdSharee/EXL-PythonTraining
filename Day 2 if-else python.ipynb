{
 "cells": [
  {
   "cell_type": "markdown",
   "id": "cdd7bb22-7270-4ec4-b771-5d3dbc3c587b",
   "metadata": {
    "scrolled": true
   },
   "source": [
    "Write a python program to find prime numbers between 1 and 100."
   ]
  },
  {
   "cell_type": "code",
   "execution_count": 13,
   "id": "7caf76ea-f647-4f64-bf87-7536046e71aa",
   "metadata": {},
   "outputs": [
    {
     "name": "stdout",
     "output_type": "stream",
     "text": [
      "2 3 5 7 11 13 17 19 23 29 31 37 41 43 47 53 59 61 67 71 73 79 83 89 97 "
     ]
    }
   ],
   "source": [
    "for n in range(2,101):\n",
    "    for i in range(2,n):\n",
    "        if n%i == 0:\n",
    "            break\n",
    "    else:\n",
    "            print(n, end = \" \")\n",
    "        "
   ]
  },
  {
   "cell_type": "markdown",
   "id": "ce893edd-b2dd-4800-81f7-198d8c891e7f",
   "metadata": {},
   "source": [
    "Some practice questions from ChatGPT"
   ]
  },
  {
   "cell_type": "code",
   "execution_count": 38,
   "id": "4b056b38-883b-4de2-a918-90ad6c3d07fb",
   "metadata": {},
   "outputs": [
    {
     "name": "stdin",
     "output_type": "stream",
     "text": [
      "Enter number here 10\n"
     ]
    },
    {
     "name": "stdout",
     "output_type": "stream",
     "text": [
      "number is positive\n"
     ]
    }
   ],
   "source": [
    "#Write a python program to check if a given number is positive, negative or zero.\n",
    "\n",
    "num=int(input(\"Enter number here\"))\n",
    "if num<0:\n",
    "    print(\"number is negative\")\n",
    "elif num==0:\n",
    "    print(\"Error: number is zero\")\n",
    "elif num>0:\n",
    "    print(\"number is positive\")\n",
    "else:\n",
    "    print(\"Error: please try only whole numbers\")\n",
    "\n"
   ]
  },
  {
   "cell_type": "code",
   "execution_count": 52,
   "id": "d11932d2-da20-466f-a891-23b425a395f5",
   "metadata": {},
   "outputs": [
    {
     "name": "stdin",
     "output_type": "stream",
     "text": [
      "Enter age here -1\n"
     ]
    },
    {
     "name": "stdout",
     "output_type": "stream",
     "text": [
      "Error: please try again\n"
     ]
    }
   ],
   "source": [
    "#Create a python script that takes a user's age as input adn prints: child/teenager/adult as per age below 13/13 to 19/20 above.\n",
    "\n",
    "age=int(input(\"Enter age here\"))\n",
    "if age<0:\n",
    "    print(\"Error: please try again\")\n",
    "if age>0 and age<13:\n",
    "    print(\"Child\")\n",
    "elif age>13 and age<19:\n",
    "    print(\"Teenager\")\n",
    "elif age>=20:\n",
    "    print(\"Adult\")\n"
   ]
  },
  {
   "cell_type": "code",
   "execution_count": 62,
   "id": "23363527-0eb0-4759-b9f5-b3d721f18539",
   "metadata": {},
   "outputs": [
    {
     "name": "stdin",
     "output_type": "stream",
     "text": [
      "Enter the year here 1997\n"
     ]
    },
    {
     "name": "stdout",
     "output_type": "stream",
     "text": [
      "This is not a leap year\n"
     ]
    }
   ],
   "source": [
    "#Write a python program to check if a year is a leap year or not.\n",
    "leap_year=int(input(\"Enter the year here\"))\n",
    "if leap_year%4==0:\n",
    "    print(\"leap year\")\n",
    "else:\n",
    "    print(\"This is not a leap year\")"
   ]
  },
  {
   "cell_type": "code",
   "execution_count": 86,
   "id": "1f9b5b37-61a7-46fa-b010-bf4f49db48df",
   "metadata": {},
   "outputs": [
    {
     "name": "stdin",
     "output_type": "stream",
     "text": [
      "Enter 1st number here 10\n",
      "Enter 2nd number here 12\n",
      "Enter 3rd number here 13\n"
     ]
    },
    {
     "name": "stdout",
     "output_type": "stream",
     "text": [
      "13 - 3rd number is greatest\n"
     ]
    }
   ],
   "source": [
    "num1=int(input(\"Enter 1st number here\"))\n",
    "num2=int(input(\"Enter 2nd number here\"))\n",
    "num3=int(input(\"Enter 3rd number here\"))\n",
    "if num1>num2 and num1>num3:\n",
    "    print(num1, \"- 1st number is greatest\")\n",
    "if num2>num1 and num2>num3:\n",
    "    print(num2, \"- 2nd number is greatest\")    \n",
    "if num3>num1 and num3>num2:\n",
    "    print(num3, \"- 3rd number is greatest\")"
   ]
  },
  {
   "cell_type": "code",
   "execution_count": 98,
   "id": "5493bfe6-3255-4044-a2b4-b6941fdd97d1",
   "metadata": {},
   "outputs": [
    {
     "name": "stdin",
     "output_type": "stream",
     "text": [
      "Enter string here : arora\n"
     ]
    },
    {
     "name": "stdout",
     "output_type": "stream",
     "text": [
      "String is palindrome\n"
     ]
    }
   ],
   "source": [
    "str=(input(\"Enter string here :\"))\n",
    "if str==str[::-1]:\n",
    "    print(\"String is palindrome\")\n",
    "else:\n",
    "    print(\"String is not palindrome\")"
   ]
  },
  {
   "cell_type": "code",
   "execution_count": null,
   "id": "1f1297b8-0c90-475d-8ec8-8dcb105df519",
   "metadata": {},
   "outputs": [],
   "source": []
  }
 ],
 "metadata": {
  "kernelspec": {
   "display_name": "Python 3 (ipykernel)",
   "language": "python",
   "name": "python3"
  },
  "language_info": {
   "codemirror_mode": {
    "name": "ipython",
    "version": 3
   },
   "file_extension": ".py",
   "mimetype": "text/x-python",
   "name": "python",
   "nbconvert_exporter": "python",
   "pygments_lexer": "ipython3",
   "version": "3.12.4"
  }
 },
 "nbformat": 4,
 "nbformat_minor": 5
}
